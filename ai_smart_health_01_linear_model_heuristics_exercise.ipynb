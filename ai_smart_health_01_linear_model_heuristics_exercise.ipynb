{
 "cells": [
  {
   "cell_type": "markdown",
   "metadata": {},
   "source": [
    "## 🧠💡 Intelligent Systems  for Smart Health 👨‍⚕👩‍⚕️🔬🌡️"
   ]
  },
  {
   "cell_type": "markdown",
   "metadata": {},
   "source": [
    "# Linear model --> Risk Scores\n",
    "\n",
    "Here, we will work with some actually used linear models that define medical risk scores. We are going to implement them as Python functions.\n",
    "\n",
    "Three risk score models we will look at are:\n",
    "\n",
    "- Atrial fibrillation: Chads-vasc score\n",
    "- Liver disease: MELD score\n",
    "- Heart disease: ASCVD score"
   ]
  },
  {
   "cell_type": "code",
   "execution_count": 1,
   "metadata": {},
   "outputs": [],
   "source": [
    "# Import packages\n",
    "import numpy as np\n",
    "import pandas as pd"
   ]
  },
  {
   "cell_type": "markdown",
   "metadata": {},
   "source": [
    "### Exercise 1: Calculate the Risk Score\n",
    "\n",
    "- Complete the function below (`chads_vasc_score()`) using the coefficients of the **CHA$_2$DS$_2$-VASc** Model, see [wikipedia entry](https://en.wikipedia.org/wiki/CHA2DS2%E2%80%93VASc_score).\n",
    "\n",
    "Calculate the chads-vasc score for a patient who has the following attributes:\n",
    "- Congestive heart failure? No\n",
    "- Hypertension: yes\n",
    "- Age 75 or older: no\n",
    "- Diabetes mellitus: no\n",
    "- Stroke: no\n",
    "- Vascular disease: yes\n",
    "- Age 65 to 74: no\n",
    "- Female? : yes\n",
    "\n",
    "Compute the chads-vasc risk score for atrial fibrillation.  \n",
    "- Fill in the missing parts below (the coefficients)!"
   ]
  },
  {
   "cell_type": "code",
   "execution_count": 10,
   "metadata": {},
   "outputs": [],
   "source": [
    "# Fill in the missing coefficients:\n",
    "\n",
    "def chads_vasc_score(input_c, input_h, input_a2, input_d, input_s2,\n",
    "                     input_v, input_a, input_sc):\n",
    "    # congestive heart failure\n",
    "    COEF_C = 1 \n",
    "    \n",
    "    # Coefficient for hypertension\n",
    "    COEF_H = 1 \n",
    "    \n",
    "    # Coefficient for Age >= 75 years\n",
    "    COEF_A2 = 2\n",
    "    \n",
    "    # Coefficient for diabetes mellitus\n",
    "    COEF_D = 1\n",
    "    \n",
    "    # Coefficient for stroke\n",
    "    COEF_S2 = 2\n",
    "    \n",
    "    # Coefficient for vascular disease\n",
    "    COEF_V = 1\n",
    "    \n",
    "    # Coefficient for age 65 to 74 years\n",
    "    COEF_A = 1\n",
    "    \n",
    "    # TODO Coefficient for female\n",
    "    COEF_Sc = 1\n",
    "    \n",
    "    # Calculate the risk score\n",
    "    risk_score = (input_c * COEF_C) +\\\n",
    "                 (input_h * COEF_H) +\\\n",
    "                 (input_a2 * COEF_A2) +\\\n",
    "                 (input_d * COEF_D) +\\\n",
    "                 (input_s2 * COEF_S2) +\\\n",
    "                 (input_v * COEF_V) +\\\n",
    "                 (input_a * COEF_A) +\\\n",
    "                 (input_sc * COEF_Sc)\n",
    "    \n",
    "    return risk_score"
   ]
  },
  {
   "cell_type": "markdown",
   "metadata": {},
   "source": []
  },
  {
   "cell_type": "code",
   "execution_count": 3,
   "metadata": {},
   "outputs": [
    {
     "name": "stdout",
     "output_type": "stream",
     "text": [
      "The chads-vasc score for this patient is 5\n"
     ]
    }
   ],
   "source": [
    "# Calculate the patient's Chads-vasc risk score\n",
    "tmp_c = 0\n",
    "tmp_h = 1\n",
    "tmp_a2 = 0\n",
    "tmp_d = 0\n",
    "tmp_s2 = 1\n",
    "tmp_v = 1\n",
    "tmp_a = 0\n",
    "tmp_sc = 1\n",
    "\n",
    "print(f\"The chads-vasc score for this patient is\",\n",
    "      f\"{chads_vasc_score(tmp_c, tmp_h, tmp_a2, tmp_d, tmp_s2, tmp_v, tmp_a, tmp_sc)}\")"
   ]
  },
  {
   "cell_type": "markdown",
   "metadata": {},
   "source": [
    "### Expected output:\n",
    "\n",
    "```The chads-vasc score for this patient is 5```\n"
   ]
  },
  {
   "cell_type": "code",
   "execution_count": 11,
   "metadata": {},
   "outputs": [
    {
     "name": "stdout",
     "output_type": "stream",
     "text": [
      "*** Seems to work! ***\n"
     ]
    }
   ],
   "source": [
    "# run this test to check if your solution works\n",
    "\n",
    "def test_chads_vasc():\n",
    "    \"\"\"Just to test a few examples.\"\"\"\n",
    "    tmp_c = 1\n",
    "    tmp_h = 1\n",
    "    tmp_a2 = 0\n",
    "    tmp_d = 0\n",
    "    tmp_s2 = 0\n",
    "    tmp_v = 1\n",
    "    tmp_a = 0\n",
    "    tmp_sc = 1\n",
    "    expected_score = 4\n",
    "    score = chads_vasc_score(tmp_c, tmp_h, tmp_a2, tmp_d, tmp_s2, tmp_v, tmp_a, tmp_sc)\n",
    "    assert score == expected_score, f\"got {score}, expected {expected_score}\"\n",
    "    \n",
    "    tmp_a2 = 1\n",
    "    tmp_s2 = 1\n",
    "    expected_score = 8\n",
    "    score = chads_vasc_score(tmp_c, tmp_h, tmp_a2, tmp_d, tmp_s2, tmp_v, tmp_a, tmp_sc)\n",
    "    assert score == expected_score, f\"got {score}, expected {expected_score}\"\n",
    "    print(\"*** Seems to work! ***\")\n",
    "\n",
    "test_chads_vasc()"
   ]
  },
  {
   "cell_type": "markdown",
   "metadata": {},
   "source": [
    "### Risk Score for Liver Disease\n",
    "\n",
    "Complete the implementation of the MELD score and use it to calculate the risk score for a particular patient.\n",
    "- Look for the `# TODO` comments to see which parts you will complete."
   ]
  },
  {
   "cell_type": "code",
   "execution_count": 13,
   "metadata": {},
   "outputs": [],
   "source": [
    "def liver_disease_mortality(input_creatine, input_bilirubin, input_inr):\n",
    "    \"\"\"\n",
    "    Calculate the probability of mortality given that the patient has\n",
    "    liver disease. \n",
    "    Parameters:\n",
    "        Creatine: mg/dL\n",
    "        Bilirubin: mg/dL\n",
    "        INR: \n",
    "    \"\"\"\n",
    "    # Coefficient values\n",
    "    coef_creatine = 0.957\n",
    "    coef_bilirubin = 0.378\n",
    "    coef_inr = 1.12\n",
    "    intercept = 0.643\n",
    "    # Calculate the natural logarithm of input variables\n",
    "    log_cre = np.log(input_creatine)\n",
    "    log_bil = np.log(input_bilirubin)\n",
    "    \n",
    "    # TODO: Calculate the natural log of input_inr\n",
    "    log_inr = np.log(input_inr)\n",
    "    \n",
    "    # Compute output\n",
    "    meld_score = (coef_creatine * log_cre) \\\n",
    "                 + (coef_bilirubin * log_bil) \\\n",
    "                 + (coef_inr * log_inr) \\\n",
    "                 + intercept\n",
    "    \n",
    "    return 10 * meld_score"
   ]
  },
  {
   "cell_type": "markdown",
   "metadata": {},
   "source": []
  },
  {
   "cell_type": "markdown",
   "metadata": {},
   "source": [
    "For a patient who has \n",
    "- Creatinine: 1 mg/dL\n",
    "- Bilirubin: 2 mg/dL\n",
    "- INR: 1.1\n",
    "\n",
    "Calculate their MELD score"
   ]
  },
  {
   "cell_type": "code",
   "execution_count": 14,
   "metadata": {},
   "outputs": [
    {
     "name": "stdout",
     "output_type": "stream",
     "text": [
      "The patient's MELD score is: 10.12\n"
     ]
    }
   ],
   "source": [
    "tmp_meld_score = liver_disease_mortality(1.0, 2.0, 1.1)\n",
    "print(f\"The patient's MELD score is: {tmp_meld_score:.2f}\")"
   ]
  },
  {
   "cell_type": "markdown",
   "metadata": {},
   "source": [
    "#### Expected output\n",
    "```\n",
    "The patient's MELD score is: 10.12\n",
    "```"
   ]
  },
  {
   "cell_type": "markdown",
   "metadata": {},
   "source": [
    "### ASCVD Risk Score for Heart Disease\n",
    "\n",
    "Complete the function that calculates the ASCVD risk score!\n",
    "\n",
    "- Ln(Age), coefficient is 17.114\n",
    "- Ln(total cholesterol): coefficient is 0.94\n",
    "- Ln(HDL): coefficient is -18.920\n",
    "- Ln(Age) x Ln(HDL-C): coefficient is 4.475\n",
    "- Ln (Untreated systolic BP): coefficient is 27.820\n",
    "- Ln (Age) x Ln 10 (Untreated systolic BP): coefficient  is -6.087\n",
    "- Current smoker (1 or 0): coefficient is 0.691\n",
    "- Diabetes (1 or 0): coefficient is 0.874\n",
    "\n",
    "\n",
    "Remember that after you calculate the sum of the products (of inputs and coefficients), use this formula to get the risk score:\n",
    "\n",
    "$$Risk = 1 - 0.9533^{e^{sumProd - 86.61}}$$\n",
    "\n",
    "This is 0.9533 raised to the power of this expression: $e^{sumProd - 86.61}$, and not 0.9533 multiplied by that exponential.\n",
    "\n",
    "- Look for the `# TODO` comments to see which parts you will complete."
   ]
  },
  {
   "cell_type": "code",
   "execution_count": 15,
   "metadata": {},
   "outputs": [],
   "source": [
    "def ascvd(x_age,\n",
    "          x_cho,\n",
    "          x_hdl,\n",
    "          x_sbp,\n",
    "          x_smo,\n",
    "          x_dia,\n",
    "          verbose=False\n",
    "         ):\n",
    "    \"\"\"\n",
    "    Atherosclerotic Cardiovascular Disease\n",
    "    (ASCVD) Risk Estimator Plus\n",
    "    \"\"\"\n",
    "    \n",
    "    # Define the coefficients\n",
    "    b_age = 17.114\n",
    "    b_cho = 0.94\n",
    "    b_hdl = -18.92\n",
    "    b_age_hdl = 4.475\n",
    "    b_sbp = 27.82\n",
    "    b_age_sbp = -6.087\n",
    "    b_smo = 0.691\n",
    "    b_dia = 0.874\n",
    "    \n",
    "    # Calculate the sum of the products of inputs and coefficients\n",
    "    sum_prod =  b_age * np.log(x_age) \\\n",
    "                + b_cho * np.log(x_cho) \\\n",
    "                + b_hdl * np.log(x_hdl) \\\n",
    "                + b_age_hdl * np.log(x_age) * np.log(x_hdl) \\\n",
    "                + b_sbp * np.log(x_sbp) \\\n",
    "                + b_age_sbp * np.log(x_age) * np.log(x_sbp) \\\n",
    "                + b_smo * x_smo \\\n",
    "                + b_dia * x_dia\n",
    "    \n",
    "    if verbose:\n",
    "        print(f\"np.log(x_age):{np.log(x_age):.2f}\")\n",
    "        print(f\"np.log(x_cho):{np.log(x_cho):.2f}\")\n",
    "        print(f\"np.log(x_hdl):{np.log(x_hdl):.2f}\")\n",
    "        print(f\"np.log(x_age) * np.log(x_hdl):{np.log(x_age) * np.log(x_hdl):.2f}\")\n",
    "        print(f\"np.log(x_sbp): {np.log(x_sbp):2f}\")\n",
    "        print(f\"np.log(x_age) * np.log(x_sbp): {np.log(x_age) * np.log(x_sbp):.2f}\")\n",
    "        print(f\"sum_prod {sum_prod:.2f}\")\n",
    "        \n",
    "    # TODO: Fill in formula\n",
    "    risk_score = 1 - 0.9533 ** np.exp(sum_prod-86.61)\n",
    "    \n",
    "    return risk_score"
   ]
  },
  {
   "cell_type": "markdown",
   "metadata": {},
   "source": []
  },
  {
   "cell_type": "code",
   "execution_count": 16,
   "metadata": {},
   "outputs": [
    {
     "name": "stdout",
     "output_type": "stream",
     "text": [
      "np.log(x_age):4.01\n",
      "np.log(x_cho):5.36\n",
      "np.log(x_hdl):3.91\n",
      "np.log(x_age) * np.log(x_hdl):15.68\n",
      "np.log(x_sbp): 4.787492\n",
      "np.log(x_age) * np.log(x_sbp): 19.19\n",
      "sum_prod 86.17\n",
      "\n",
      "patient's ascvd risk score is 0.03\n"
     ]
    }
   ],
   "source": [
    "tmp_risk_score = ascvd(x_age=55,\n",
    "                      x_cho=213,\n",
    "                      x_hdl=50,\n",
    "                      x_sbp=120,\n",
    "                      x_smo=0,\n",
    "                      x_dia=0, \n",
    "                      verbose=True\n",
    "                      )\n",
    "print(f\"\\npatient's ascvd risk score is {tmp_risk_score:.2f}\")"
   ]
  },
  {
   "cell_type": "markdown",
   "metadata": {},
   "source": [
    "#### Expected output\n",
    "```\n",
    "patient's ascvd risk score is 0.03\n",
    "```"
   ]
  },
  {
   "cell_type": "code",
   "execution_count": null,
   "metadata": {},
   "outputs": [],
   "source": []
  },
  {
   "cell_type": "markdown",
   "metadata": {},
   "source": [
    "---\n",
    "Notebook for DAISY/MMI course \"Intelligent Systems for Smart Health\", 2023  \n",
    "*Credits: Most of this Notebook comes from Coursera course on AI for Medical Prognosis*"
   ]
  },
  {
   "cell_type": "code",
   "execution_count": null,
   "metadata": {},
   "outputs": [],
   "source": []
  }
 ],
 "metadata": {
  "kernelspec": {
   "display_name": "Python 3 (ipykernel)",
   "language": "python",
   "name": "python3"
  },
  "language_info": {
   "codemirror_mode": {
    "name": "ipython",
    "version": 3
   },
   "file_extension": ".py",
   "mimetype": "text/x-python",
   "name": "python",
   "nbconvert_exporter": "python",
   "pygments_lexer": "ipython3",
   "version": "3.9.16"
  }
 },
 "nbformat": 4,
 "nbformat_minor": 4
}
