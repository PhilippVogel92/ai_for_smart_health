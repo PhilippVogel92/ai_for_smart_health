{
 "cells": [
  {
   "attachments": {},
   "cell_type": "markdown",
   "metadata": {},
   "source": [
    "## 🧠💡 Intelligent Systems  for Smart Health 👨‍⚕👩‍⚕️🔬🌡️\n"
   ]
  },
  {
   "attachments": {},
   "cell_type": "markdown",
   "metadata": {},
   "source": [
    "## Portfolio Exercise 01\n",
    "\n",
    "# Diabetes prediction\n",
    "\n",
    "We will again work with data from the NHANES study. But this time we aim to predict something which is a little less dramatic compared to 10-year survival. We want to predict if a patient has **diabetes** or not.\n",
    "\n",
    "The goal of this portfolio exercise is to complete a full machine learning task from data import to model training an optimization until a final model evaluation.\n",
    "\n",
    "Good luck!"
   ]
  },
  {
   "attachments": {},
   "cell_type": "markdown",
   "metadata": {
    "colab_type": "text",
    "id": "F6k2pItifWeK"
   },
   "source": [
    "<a name='import'></a>\n",
    "## Import Packages\n",
    "\n",
    "We'll first import all the common packages that we need for this assignment. \n",
    "\n",
    "- `shap` is a library that explains predictions made by machine learning models.\n",
    "- `sklearn` is one of the most popular machine learning libraries.\n",
    "- `numpy` is a fundamental package for scientific computing in Python.\n",
    "- `pandas` is what we'll use to manipulate our data.\n",
    "- `seaborn` is a plotting library which has some convenient functions for visualizing missing data.\n",
    "- `matplotlib` is a plotting library."
   ]
  },
  {
   "cell_type": "code",
   "execution_count": null,
   "metadata": {},
   "outputs": [],
   "source": [
    "#!pip install lifelines"
   ]
  },
  {
   "cell_type": "code",
   "execution_count": null,
   "metadata": {
    "colab": {},
    "colab_type": "code",
    "id": "V5s0iQ82okBv"
   },
   "outputs": [],
   "source": [
    "import os\n",
    "import shap\n",
    "import sklearn\n",
    "import numpy as np\n",
    "import pandas as pd\n",
    "import seaborn as sns\n",
    "import matplotlib.pyplot as plt \n",
    "\n",
    "from sklearn.ensemble import RandomForestClassifier\n",
    "from sklearn.model_selection import train_test_split"
   ]
  },
  {
   "attachments": {},
   "cell_type": "markdown",
   "metadata": {},
   "source": [
    "# Portfolio exercises:\n",
    "### 1. load and inspect the data \n",
    "- what are missing/problematic entries?\n",
    "\n",
    "### 2. data cleaning \n",
    "- remove, fill, change data (if you think this makes sense or is necessary/benefitial)\n",
    "\n",
    "### 3. inspect correlations among the features \n",
    "- which features do you expect to play a role for a later machine learning model (for predicting diabetes), and why? In ein paar Sätzen beschreiben was und warum. Welche Sachen stechen raus und erklären. Muster erkennen und beschreiben. Diese Feature erläutern und ihre Korrelation zu Diabetes.\n",
    "\n",
    "### 4. Prepare data for machine learning: \n",
    "- Separate data / labels\n",
    "- Split into train ~70% / validation ~15% / test ~15%\n",
    "\n",
    "### 5. Train a first model (random forest)\n",
    "- use validation and training set to avoid overfitting\n",
    "- optimize your hyperparameters with a simple grid search\n",
    "- Evaluate the model using accuracy, confusion matrix, f1-score, and ROC curve\n",
    "- How good is the model? What are the main problems?\n",
    "\n",
    "\n",
    "### 6. Check if labels are balanced\n",
    "- If you find that the data is not balanced enough, try to mitigate this problem (e.g. by oversampling or adding class weights).\n",
    "- Use any hyperparameter search strategy you know (grid search, random search, or Bayesian search)\n",
    "- Again use the same evaluation metrics as above to inspect the quality of your model.\n",
    "\n",
    "\n",
    "### 7. Explainability\n",
    "- Use SHAP to plot the importance of each feature for the predictions\n",
    "- Use SHAP for two individual predictions (one person with diabetes predicted, one person with lower risk)\n",
    "\n",
    "- Small check: Train another model (same hyperparameters), but remove the data of the 10 least important features. How does this affect your model performance?\n",
    "\n",
    "### 8. Conclusion\n",
    "- How good is your model? Was kann das Model und was nicht. How well can you predict diabetes?\n",
    "- Could such a model be improved further? If so, what could be done to improve the model?\n",
    "- Compare your results to current research [Dinh et al., 2019](https://bmcmedinformdecismak.biomedcentral.com/articles/10.1186/s12911-019-0918-5). Obviously, it is not 100% the same data, but somewhat comparable. Two specific questions to answer: Is your model of comparable type to what they used in their study? And did you get a comparable model performance? Liegt man da im ähnlichen Bereich?\n",
    "\n",
    "\n",
    "Another article (optional, if you're interested): [Vangeepuram et al., 2021](https://www.nature.com/articles/s41598-021-90406-0#Tab1) \n",
    "\n",
    "\n",
    "\n",
    "## Final submission:\n",
    "Please address all the above mentioned points in this notebook (e.g., using text cells where needed for explanations or answers).\n",
    "Abgabe bis zum 02.06."
   ]
  },
  {
   "attachments": {},
   "cell_type": "markdown",
   "metadata": {},
   "source": [
    "<a name='1'></a>\n",
    "## 1. The Dataset\n",
    "\n",
    "We will (again) work with actual medical data in this notebook, namely the NHANES I epidemiology dataset (for a detailed description of this dataset you can check the [CDC Website](https://wwwn.cdc.gov/nchs/nhanes/nhefs/default.aspx/)).\n",
    "\n",
    "This time we will work with data from the period 2017-2018 which was downloaded via the pip package `nhanes` [GitHub link](https://github.com/poldrack/nhanes).\n",
    "\n",
    "Most features are described within the GitHub repository. Some important information on the provided features:\n",
    "\n",
    "- `Gender` - 1 is female, 0 is male\n",
    "- `diabetes` - 1 means diabetes was diagnosed\n",
    "- `diabetes_borderline` - 1 means \"borderline diabetes\" (close to having diabetes) was diagnosed\n",
    "- `Smoking` - 1 means person has smoked within the last 5 days. People with missing entries were set to 0\n",
    "- `PhysicalActivity` - 0 means no particular activities, 1 means \"moderate recreational activities\" or walking, biking and 2 means more extensive recreational activities\n",
    "- `SEQN` is an ID\n",
    "\n",
    "\n",
    "### Load and explore the data!\n",
    "\n",
    "In virtually all cases, we would first want to get an intuition on the data itself. Things like: What is in the data? How much data is there? Are there things missing? What might cause problems? Do we understand the type of data/features?\n",
    "\n"
   ]
  },
  {
   "cell_type": "code",
   "execution_count": null,
   "metadata": {},
   "outputs": [],
   "source": [
    "path_data = # add your own path"
   ]
  },
  {
   "cell_type": "code",
   "execution_count": null,
   "metadata": {},
   "outputs": [],
   "source": [
    "filename = \"NHANES_2017_2018_diabetes.csv\"\n",
    "data = pd.read_csv(os.path.join(path_data, filename))"
   ]
  },
  {
   "cell_type": "code",
   "execution_count": null,
   "metadata": {},
   "outputs": [],
   "source": [
    "data.head()"
   ]
  },
  {
   "cell_type": "code",
   "execution_count": null,
   "metadata": {},
   "outputs": [],
   "source": []
  }
 ],
 "metadata": {
  "colab": {
   "collapsed_sections": [
    "-gc0vttU7Dkf",
    "CFM27SfS1QSD"
   ],
   "include_colab_link": true,
   "name": "C2_W2_Assignment.ipynb",
   "provenance": [],
   "toc_visible": true
  },
  "kernelspec": {
   "display_name": "Python 3 (ipykernel)",
   "language": "python",
   "name": "python3"
  },
  "language_info": {
   "codemirror_mode": {
    "name": "ipython",
    "version": 3
   },
   "file_extension": ".py",
   "mimetype": "text/x-python",
   "name": "python",
   "nbconvert_exporter": "python",
   "pygments_lexer": "ipython3",
   "version": "3.9.16"
  }
 },
 "nbformat": 4,
 "nbformat_minor": 4
}
